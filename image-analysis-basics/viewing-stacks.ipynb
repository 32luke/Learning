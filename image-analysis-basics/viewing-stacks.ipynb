{
 "cells": [
  {
   "cell_type": "markdown",
   "metadata": {},
   "source": [
    "# Reading in and displaying TIFF stacks\n",
    "Analysis of our microscope data can be grossly broken down into qualitative and quantitative analysis. By and large all of the qualitative and some quantitative image analysis is done in ImageJ. However, for most quantitative image and data analysis we use python. For those analyses, it is often necessary to open and inspect images in python. \n",
    "\n",
    "\n",
    "***"
   ]
  },
  {
   "cell_type": "markdown",
   "metadata": {},
   "source": [
    "This notebook will show you how to read in a TIFF stack and open a viewer to look at it. We are going to open the stack with scikit-image, and we are going to display the stack with matplotlib."
   ]
  },
  {
   "cell_type": "code",
   "execution_count": 1,
   "metadata": {},
   "outputs": [],
   "source": [
    "from skimage.external.tifffile import imread, imshow"
   ]
  },
  {
   "cell_type": "markdown",
   "metadata": {},
   "source": [
    "I have placed a test stack in the folder containing this notebook.\n"
   ]
  },
  {
   "cell_type": "code",
   "execution_count": 2,
   "metadata": {},
   "outputs": [],
   "source": [
    "fname = 'test_images/test_stack_1.tif'"
   ]
  },
  {
   "cell_type": "markdown",
   "metadata": {},
   "source": [
    "next we read in the stack using skimage"
   ]
  },
  {
   "cell_type": "code",
   "execution_count": 3,
   "metadata": {},
   "outputs": [],
   "source": [
    "im = imread(fname)"
   ]
  },
  {
   "cell_type": "markdown",
   "metadata": {},
   "source": [
    "The above is the array data we will do all of our analysis on, so its worth having a quick look at how it is structured."
   ]
  },
  {
   "cell_type": "code",
   "execution_count": 4,
   "metadata": {},
   "outputs": [
    {
     "data": {
      "text/plain": [
       "(68, 512, 512)"
      ]
     },
     "execution_count": 4,
     "metadata": {},
     "output_type": "execute_result"
    }
   ],
   "source": [
    "im.shape"
   ]
  },
  {
   "cell_type": "markdown",
   "metadata": {},
   "source": [
    "The stack is 68 frames of 512x512 images. Each pixel is represented as a 16bit number."
   ]
  },
  {
   "cell_type": "code",
   "execution_count": 5,
   "metadata": {},
   "outputs": [
    {
     "name": "stdout",
     "output_type": "stream",
     "text": [
      "[[[ 183  208  329 ...  185  183  229]\n",
      "  [ 181  173  148 ...  171  337  297]\n",
      "  [ 163  193  177 ...  238  171  191]\n",
      "  ...\n",
      "  [ 190  211  168 ...  373  169  186]\n",
      "  [ 168  151  121 ...  212  356  396]\n",
      "  [ 160  165  130 ...  343  294  379]]\n",
      "\n",
      " [[ 174  152  183 ...  162  179  200]\n",
      "  [ 185  172  157 ...  193  186  190]\n",
      "  [ 163  196  199 ...  212  460  152]\n",
      "  ...\n",
      "  [ 209  157  219 ...  666  310  762]\n",
      "  [ 136  147  175 ...  173  279  336]\n",
      "  [ 161  157  180 ...  220  294  346]]\n",
      "\n",
      " [[ 182  154  149 ...  175  186  169]\n",
      "  [ 294  198  153 ...  314  187  260]\n",
      "  [ 226  172  237 ...  296  459  236]\n",
      "  ...\n",
      "  [ 146  138  143 ...  206  422  141]\n",
      "  [ 171  157  170 ...  162  371  361]\n",
      "  [ 136  162  165 ...  311  361  556]]\n",
      "\n",
      " ...\n",
      "\n",
      " [[ 163  182  176 ...  173  183  187]\n",
      "  [ 179  589  142 ...  177  192  141]\n",
      "  [ 376  119  240 ...  870  263  243]\n",
      "  ...\n",
      "  [ 149  171  173 ...  366 1234  811]\n",
      "  [ 158  197  182 ...  509  440  302]\n",
      "  [ 198  143  339 ...  379  171  607]]\n",
      "\n",
      " [[ 377  219  249 ...  213  177  186]\n",
      "  [ 204  260  209 ...  204  178  147]\n",
      "  [ 192  215  294 ...  595  181  294]\n",
      "  ...\n",
      "  [ 257  179  229 ...  322  369  736]\n",
      "  [ 175  199  404 ...  545  341  454]\n",
      "  [ 466  147  189 ...  363  371  330]]\n",
      "\n",
      " [[ 179  163  168 ...  200  192  176]\n",
      "  [ 461  170  388 ...  168  172  195]\n",
      "  [ 164  276  629 ...  242  563  279]\n",
      "  ...\n",
      "  [ 607  119  130 ...  607  438  216]\n",
      "  [ 577  311  175 ...  397  277  432]\n",
      "  [ 163  218  161 ...  232  312  473]]]\n"
     ]
    }
   ],
   "source": [
    "print(im)"
   ]
  },
  {
   "cell_type": "markdown",
   "metadata": {},
   "source": [
    "In order to look at the data interactively, we need to initialize QT to display our TIFF stack (other options are `inline` and `notebook`. Inline will only display static images, Notebook will display interactive data, but OMG it is so very slow with stacks. Your best bet is a dedicated window for stack data.).  We are going to use built in \"magic\" functions indicated by a %. _NOTE: once you choose a matplotlib option, you are stuck with it until you restart the kernal_"
   ]
  },
  {
   "cell_type": "code",
   "execution_count": 6,
   "metadata": {},
   "outputs": [],
   "source": [
    "%matplotlib qt"
   ]
  },
  {
   "cell_type": "markdown",
   "metadata": {},
   "source": [
    "Now we are ready to show the data."
   ]
  },
  {
   "cell_type": "code",
   "execution_count": 7,
   "metadata": {},
   "outputs": [
    {
     "data": {
      "text/plain": [
       "(<matplotlib.figure.Figure at 0x312902a20>,\n",
       " <matplotlib.axes._subplots.AxesSubplot at 0x31e4fd940>,\n",
       " <matplotlib.image.AxesImage at 0x325413e10>)"
      ]
     },
     "execution_count": 7,
     "metadata": {},
     "output_type": "execute_result"
    }
   ],
   "source": [
    "imshow(im, cmap = \"binary_r\", vmax = 4000)"
   ]
  },
  {
   "cell_type": "code",
   "execution_count": null,
   "metadata": {},
   "outputs": [],
   "source": []
  }
 ],
 "metadata": {
  "kernelspec": {
   "display_name": "Python 3",
   "language": "python",
   "name": "python3"
  },
  "language_info": {
   "codemirror_mode": {
    "name": "ipython",
    "version": 3
   },
   "file_extension": ".py",
   "mimetype": "text/x-python",
   "name": "python",
   "nbconvert_exporter": "python",
   "pygments_lexer": "ipython3",
   "version": "3.6.4"
  }
 },
 "nbformat": 4,
 "nbformat_minor": 2
}
